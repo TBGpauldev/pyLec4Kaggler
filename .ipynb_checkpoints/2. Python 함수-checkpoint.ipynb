{
 "cells": [
  {
   "cell_type": "markdown",
   "metadata": {},
   "source": [
    "# 2. Python 함수 \n",
    "\n",
    "###### 목차\n",
    "1. 함수 선언\n",
    "2. 함수의 종류\n",
    "3. 매개변수 규칙\n",
    "4. unpacking \n",
    "5. Lambda \n",
    "6. 내장함수 \n",
    "\n",
    "&nbsp;코드를 작성하다 보면 중복되는 코드들을 종종 만나게 됩니다. 이때가 바로 함수를 사용할 때 입니다. 즉 반복되는 부분이 있을 경우, **반복적으로 사용되는 가치 있는 부분**을 한 뭉치로 묶어 **입력값을 주었을때 그에 상응하는 출력값을 주는** 식의 함수로 작성하는 것이 현명합니다. \n",
    "\n",
    "&nbsp;함수를 사용하는 또 다른 이유는 자신이 만든 프로그램을 함수화하면 프로그램 흐름을 일목요연하게 볼 수 있기 때문입니다. 마치 공장에서 원재료가 여러 공정을 거쳐 하나의 상품이 되는 것처럼 프로그램에서도 입력한 값이 여러 함수를 거치면서 원하는 결괏값을 내는 것을 볼 수 있습니다. 이렇게 되면 프로그램 흐름도 잘 파악할 수 있고 오류가 어디에서 나는지도 바로 알아차릴 수 있다. 특히 머신러닝 프로젝트에서는 머신러닝 파이프라인을 일목요연하게 함수로 정리하여 순차적으로 관리하는 것 또한 중요합니다.\n",
    "\n",
    "&nbsp;마침 '1. Python 기초, 변수, Type.ipynb' 반복문 예제에서 똑같은 코드가 객체만 바뀌어서 작성되어 있는것을 볼 수 있습니다. 반복문 예제를 함수로 만들어 코드를 간소화 시켜 봅니다. "
   ]
  },
  {
   "cell_type": "markdown",
   "metadata": {},
   "source": [
    "## 1. 함수 선언\n",
    "\n",
    "함수는 **def** keyword를 사용하여 선언할 수 있습니다. \n",
    "```python\n",
    "def function_name(param1, param2, param3=None):\n",
    "    \n",
    "    < Fancy algorithm... > \n",
    "    \n",
    "    return return_value\n",
    "```"
   ]
  },
  {
   "cell_type": "code",
   "execution_count": 1,
   "metadata": {},
   "outputs": [],
   "source": [
    "def print_container(cont_obj, fin_idx=-1):\n",
    "    \n",
    "    for number in cont_obj:\n",
    "        \n",
    "        if isinstance(number, tuple):\n",
    "            \n",
    "            idx, number = number\n",
    "            print_line = f'{idx} {number}'\n",
    "            if isinstance(number, tuple):\n",
    "                \n",
    "                number1, number2 = number\n",
    "                print_line = f'{idx} {number1} {number2}'\n",
    "        else:\n",
    "    \n",
    "            print_line = f'{number}'\n",
    "        \n",
    "        print(print_line, end=' ')\n",
    "            \n",
    "    print()"
   ]
  },
  {
   "cell_type": "code",
   "execution_count": 2,
   "metadata": {},
   "outputs": [
    {
     "name": "stdout",
     "output_type": "stream",
     "text": [
      "0 1 2 3 4\n",
      "0 1 2 3 4 \n"
     ]
    }
   ],
   "source": [
    "# range() \n",
    "for number in range(5):\n",
    "    if range(5)[-1] != number:\n",
    "        print(number, end=' ')\n",
    "    else:\n",
    "        print(number)   \n",
    "\n",
    "print_container(range(5))"
   ]
  },
  {
   "cell_type": "code",
   "execution_count": 3,
   "metadata": {},
   "outputs": [
    {
     "name": "stdout",
     "output_type": "stream",
     "text": [
      "0 A 1 B 2 C 3 D 4 E\n",
      "0 A 1 B 2 C 3 D 4 E \n"
     ]
    }
   ],
   "source": [
    "# enumerate()\n",
    "alphabets = \"ABCDE\"\n",
    "for idx, alphabet in enumerate(alphabets):\n",
    "    if alphabets[-1] != alphabet:\n",
    "        print(f'{idx} {alphabet}', end=' ')\n",
    "    else:\n",
    "        print(f'{idx} {alphabet}')\n",
    "        \n",
    "print_container(enumerate(alphabets))"
   ]
  },
  {
   "cell_type": "code",
   "execution_count": 4,
   "metadata": {},
   "outputs": [
    {
     "name": "stdout",
     "output_type": "stream",
     "text": [
      "0 E 1 D 2 C 3 B 4 A\n",
      "0 E 1 D 2 C 3 B 4 A \n"
     ]
    }
   ],
   "source": [
    "# reversed()\n",
    "for idx, alphabet in enumerate(reversed(alphabets)):\n",
    "    if alphabets[0] != alphabet:\n",
    "        print(f'{idx} {alphabet}', end=' ')\n",
    "    else:\n",
    "        print(f'{idx} {alphabet}')   \n",
    "        \n",
    "print_container(enumerate(reversed(alphabets)))"
   ]
  },
  {
   "cell_type": "code",
   "execution_count": 5,
   "metadata": {},
   "outputs": [
    {
     "name": "stdout",
     "output_type": "stream",
     "text": [
      "1 A 2 B 3 C 4 D 5 E\n",
      "1 A 2 B 3 C 4 D 5 E \n"
     ]
    }
   ],
   "source": [
    "# zip()\n",
    "numbers = [1,2,3,4,5]\n",
    "alphabets = \"ABCDE\"\n",
    "for number, alphabet in zip(numbers, alphabets):\n",
    "    if alphabets[-1] != alphabet:\n",
    "        print(f'{number} {alphabet}', end=' ')\n",
    "    else:\n",
    "        print(f'{number} {alphabet}')        \n",
    "\n",
    "print_container(zip(numbers, alphabets))"
   ]
  },
  {
   "cell_type": "code",
   "execution_count": 6,
   "metadata": {},
   "outputs": [
    {
     "name": "stdout",
     "output_type": "stream",
     "text": [
      "0 1 A 1 2 B 2 3 C 3 4 D 4 5 E\n",
      "0 1 A 1 2 B 2 3 C 3 4 D 4 5 E \n"
     ]
    }
   ],
   "source": [
    "# enumerate + zip \n",
    "for idx, (number, alphabet) in enumerate(zip(numbers, alphabets)):\n",
    "    if alphabets[-1] != alphabet:\n",
    "        print(f'{idx} {number} {alphabet}', end=' ')\n",
    "    else:\n",
    "        print(f'{idx} {number} {alphabet}')    \n",
    "\n",
    "print_container(enumerate(zip(numbers, alphabets)))"
   ]
  },
  {
   "cell_type": "markdown",
   "metadata": {},
   "source": [
    "위에서 예시로 만들어본 함수 **print_container**처럼 한번 함수를 작성하고 난 후에, 적절한 매개변수와 함께 호출한다면 원하는 결과를 동일하게 구현할 수 있음을 확인했습니다.  \n",
    "\n",
    "> __용어 정리__<br>\n",
    "> **매개변수(Parameter)**는 함수에 입력으로 전달된 값을 받는 변수<br>\n",
    "> **인수(Argument)**는 함수를 호출할 때 전달하는 입력값을 의미합니다."
   ]
  },
  {
   "cell_type": "markdown",
   "metadata": {},
   "source": [
    "## 2. 함수의 종류\n",
    "\n",
    "함수의 선언은 자유롭습니다. 매개변수가 없는 함수가 존재할 수도 있고, 출력값이 없는 함수가 존재할 수도 있습니다. 또한 Python의 **unpacking**연산자를 사용해 매개변수의 수가 고정되지 않은 함수 또한 선언할 수 있습니다. \n",
    "\n",
    "```python\n",
    "# 매개변수가 없는 함수\n",
    "def fn_no_param():\n",
    "    return 10\n",
    "\n",
    "# 리턴값이 없는 함수\n",
    "def fn_no_return(line):\n",
    "    print(line)\n",
    "\n",
    "# 매개변수, 출력값 모두 없는 함수\n",
    "def fn_no_param_no_return():\n",
    "    print(\"There is no parameter and no return vlaues\")\n",
    "    \n",
    "# 매개변수의 수가 고정되지 않은 함수\n",
    "def add_nums(*args, **kwargs):\n",
    "    return sum([num for num in args])\n",
    "```"
   ]
  },
  {
   "cell_type": "markdown",
   "metadata": {},
   "source": [
    "## 3. 매개변수 규칙\n",
    "\n",
    "파이썬 함수의 매개변수는 여러가지 형태로 선언될 수 있다. \n",
    "```python\n",
    "def ex_function(a, b='default', *argv, **kwargw):\n",
    "    pass \n",
    "\n",
    "```\n",
    "**1. 기본값이 없는 매개변수 - a**<br>\n",
    "함수 호출 시 반드시 인자가 지정되어야 합니다.<br>\n",
    "**2. 기본값이 있는 매개변수 - b**<br>\n",
    "함수 호풀 시 생략될 수 있지만, 생략시 기본값이 인자로 할당됩니다.<br>\n",
    "**3. 그외 인자 - *argv**<br>\n",
    "함수에 파라미터로 지정되지 않은 그외 인자들을 받아줍니다.<br>\n",
    "**4. 그외 키워드 인자 - **kwargw**<br>\n",
    "함수에 파라미터로 지정되지 않은 키워드 인자들을 받아줍니다. <br>\n",
    "   \n",
    "이때, 매개변수 형태에 따라 함수에 선언되어야 하는 순서가 있습니다. 그 순서는 1, 2, 3, 4 순서로 파라미터가 작성이 되어야 합니다. 그렇지 않으면 에러가 나는데 그 이유는 순서가 바뀔경우, 인터프리터가 함수에 인자로 전달 한 값에 대해 구분하기 모호한 상황이 생기기 때문입니다. "
   ]
  },
  {
   "cell_type": "markdown",
   "metadata": {},
   "source": [
    "## 4. unpacking\n",
    "이번에 우리가 집중해볼 내용은 바로 **unpacking**입니다. 종종 케글 커널을 필사하다 보면 아래와 같은 코드를 본적이 있을 것입니다. \n",
    "\n",
    "```Python \n",
    "from sklearn import svm\n",
    "\n",
    "params = {\n",
    "    'C': 1.0, \n",
    "    'kernel': 'precomputed', \n",
    "    'gamma' : 'auto_deprecated'\n",
    "}\n",
    "\n",
    "clf = svm.SVC(**params)\n",
    "```\n",
    "\n",
    "상기 코드는 'params' 라는 딕셔너리에 SVC 생성자 함수의 인자를 정의하고, **unpacking**연산자를 사용해 딕셔너리를 SVC 생성자 함수의 파라미터에 인자로 전달하는 코드입니다.<br> \n",
    "\n",
    "**unpacking**연산자 __\\**__는 딕셔너리의 key는 파라미터 변수 이름, value는 인자로 치환하여 정확이는 **unpacking**하여 함수를 호출해 주는 마법같은 연산자입니다. \n",
    "\n",
    "아래 코드는 위 params 딕셔너리가 unpacking되어 실제 실행되는 코드의 예시입니다. \n",
    "```Python \n",
    "from sklearn import svm\n",
    "clf = svm.SVC(C=1.0, kernel='precomputed', gamma='auto_deprecated')\n",
    "```"
   ]
  },
  {
   "cell_type": "code",
   "execution_count": 31,
   "metadata": {},
   "outputs": [
    {
     "name": "stdout",
     "output_type": "stream",
     "text": [
      "0 1\n",
      "(2, 3, 4)\n"
     ]
    }
   ],
   "source": [
    "params = (0,1,2,3,4)\n",
    "def tuple_unpacking(first, second, *args): \n",
    "    print(first, second)\n",
    "    print(args)\n",
    "    \n",
    "tuple_unpacking(*params)"
   ]
  },
  {
   "cell_type": "code",
   "execution_count": 32,
   "metadata": {},
   "outputs": [
    {
     "name": "stdout",
     "output_type": "stream",
     "text": [
      "paulracooni is male\n",
      "{'age': 27, 'isHansome': False}\n"
     ]
    }
   ],
   "source": [
    "params = {'name':'paulracooni', 'gender':'male', 'age':27, 'isHansome':False}\n",
    "\n",
    "def dict_unpacking(name, gender, **kwargs):\n",
    "    print(name, 'is',gender)\n",
    "    print(kwargs)\n",
    "    \n",
    "dict_unpacking(**params)"
   ]
  },
  {
   "cell_type": "markdown",
   "metadata": {},
   "source": [
    "**unpacking** 연산자를 사용하여 함수를 호출할 때의 장점은 코드가 가독성이 높아진다는 것입니다. 기본적으로 sklean, tensorflow 머신러닝 프레임워크같은 라이브러리들은 10개가 넘어가는 매개변수를 수정해 줘야하는 경우가 존재합니다. 이것을 매번 함수에 입력하는 것도 손이 많이 가는 작업이겠죠. 그렇기 때문에 매개변수를 딕셔너리 리스트로 관리한다면 코드의 가독성이 올라갈 뿐 아니라 함수 호출하는 행위를 데이터로 관리할 수도 있습니다. 아직은 공감이 가지 않겠지만, 언젠가 공감이 가는 날이 올것입니다."
   ]
  },
  {
   "cell_type": "markdown",
   "metadata": {},
   "source": [
    "## 5. Lambda\n",
    "Lambda 함수는 익명 함수(Anonymous functions)라고도 하는데, 사실 프로그래밍 하는데 있어 꼭 알아야 하는 개념은 아닙니다. 그럼에도 설명해 드리는 이유는 종종 Lambda가 Kaggle 커널에서 심심치 않게 등장하기 때문입니다. \n",
    "\n",
    "Lambda 함수에 대해서는 프로그래밍 언어학적으로 대학에서 한달 이상 시간을 할애하며 배울만큼 다양한 개념이 존재하지만, 실 사용법은 매우 단순하기 때문에 한줄로만 정의하고 넘어가겠습니다. \n",
    "\n",
    "**Lambda는 함수를 한줄로 선언할 수 있는거**\n",
    "```python\n",
    "number_add = lambda x1, x2 : x1 + x2\n",
    "```"
   ]
  },
  {
   "cell_type": "code",
   "execution_count": 33,
   "metadata": {},
   "outputs": [
    {
     "data": {
      "text/plain": [
       "3"
      ]
     },
     "execution_count": 33,
     "metadata": {},
     "output_type": "execute_result"
    }
   ],
   "source": [
    "def add(x1, x2):\n",
    "    return x1+x2\n",
    "add(1, 2)"
   ]
  },
  {
   "cell_type": "code",
   "execution_count": 36,
   "metadata": {},
   "outputs": [
    {
     "data": {
      "text/plain": [
       "3"
      ]
     },
     "execution_count": 36,
     "metadata": {},
     "output_type": "execute_result"
    }
   ],
   "source": [
    "(lambda x1, x2: x1+x2)(1, 2)"
   ]
  },
  {
   "cell_type": "markdown",
   "metadata": {},
   "source": [
    "Lambda 함수를 사용하면, 코드가 간결해지고 코드의 퍼포먼스가 올라가는 장점이 있습니다. 그렇다고 해서 무조건 Lambda를 사용해야만 하는건 아닙니다. 두줄 이상의 코드를 람다함수로 선언하지 못하기 때문입니다. "
   ]
  },
  {
   "cell_type": "markdown",
   "metadata": {},
   "source": [
    "## 6. 내장함수\n",
    "\n",
    "'2. Python 함수'에서 Lambda를 언급한 이유는 함수형 프로그래밍 패러다임을 조금 맛을 보기 위해서 입니다. 함수형 프로그래밍 패러다임에 대해선 일단 프로그래밍 언어에서 제공하는 내장함수를 이용해 프로그래밍 하는 것이라고 이해해 주세요.\n",
    "\n",
    "Python 내장함수 목록[https://docs.python.org/ko/3/library/functions.html]\n",
    "\n",
    "여러가지가 있지만, 케글에서 가장 많이 사용되는 map과 filter함수를 살펴보고 넘어가 봅시다."
   ]
  },
  {
   "cell_type": "markdown",
   "metadata": {},
   "source": [
    "### map(f, iterable)\n",
    "map(f, iterable)은 함수(f)와 반복 가능한(iterable) 자료형을 인자로 받습니다. map은 입력받은 자료형의 각 요소를 함수 f가 수행한 결과를 돌려주는 함수입니다."
   ]
  },
  {
   "cell_type": "code",
   "execution_count": 39,
   "metadata": {},
   "outputs": [
    {
     "data": {
      "text/plain": [
       "(<map at 0x2046d8a6198>, [2, 4, 6, 8, 10])"
      ]
     },
     "execution_count": 39,
     "metadata": {},
     "output_type": "execute_result"
    }
   ],
   "source": [
    "result = map(lambda x: 2*x, [1,2,3,4,5])\n",
    "result, list(result)"
   ]
  },
  {
   "cell_type": "markdown",
   "metadata": {},
   "source": [
    "map 함수는 우리가 배웠던 unpacking 연산자를 만나면 아주 강력해 집니다."
   ]
  },
  {
   "cell_type": "code",
   "execution_count": 49,
   "metadata": {},
   "outputs": [
    {
     "data": {
      "text/plain": [
       "['we enjoy machine learning',\n",
       " 'you enjoy deep learning',\n",
       " 'you enjoy python',\n",
       " 'she practive kaggle',\n",
       " 'i love deep learning',\n",
       " 'i like python',\n",
       " 'you practive deep learning',\n",
       " 'i enjoy python',\n",
       " 'we like deep learning',\n",
       " 'he like deep learning']"
      ]
     },
     "execution_count": 49,
     "metadata": {},
     "output_type": "execute_result"
    }
   ],
   "source": [
    "from random import sample\n",
    "\n",
    "def sentence(s, v, o):\n",
    "    return f'{s} {v} {o}'\n",
    "\n",
    "pick = lambda list_ : sample(list_, 1)[0]\n",
    "\n",
    "list_s = ['he', 'she', 'i', 'you', 'we']\n",
    "list_v = ['practive', 'enjoy', 'love', 'like']\n",
    "list_o = ['python', 'kaggle', 'machine learning', 'deep learning']\n",
    "\n",
    "params =[ \n",
    "    (pick(list_s),pick(list_v), pick(list_o))\n",
    "    for _ in range(10) ]\n",
    "\n",
    "list(map(lambda argv:sentence(*argv) , params))"
   ]
  },
  {
   "cell_type": "markdown",
   "metadata": {},
   "source": [
    "### filter(f_condition, iterable )\n",
    "\n",
    "filter란 무엇인가를 걸러낸다는 뜻으로 filter 함수도 동일한 의미를 가집니다..\n",
    "\n",
    "filter 함수는 첫 번째 인수로 함수 이름을, 두 번째 인수로 그 함수에 차례로 들어갈 반복 가능한 자료형을 받습니다. 그리고 두 번째 인수인 반복 가능한 자료형 요소가 첫 번째 인수인 함수에 입력되었을 때 반환 값이 참인 것만 걸러내 돌려주게 됩니다."
   ]
  },
  {
   "cell_type": "code",
   "execution_count": 52,
   "metadata": {},
   "outputs": [
    {
     "data": {
      "text/plain": [
       "[1, 2]"
      ]
     },
     "execution_count": 52,
     "metadata": {},
     "output_type": "execute_result"
    }
   ],
   "source": [
    "list(filter(lambda x: 3>x, [1,2,3,4,5]))"
   ]
  },
  {
   "cell_type": "markdown",
   "metadata": {},
   "source": [
    "여기까지 파이썬 함수에 대해 알아 보았습니다. 함수에 대한 모든것을 알려드린 것은 아니지만 그래도 케글 커널을 분석하는데 있어 충분한 함수의 개념을 가져가셨을 것이라고 기대합니다. \n",
    "\n",
    "다음 시간에는 클래스에 대한 내용을 다루어 볼 예정입니다."
   ]
  }
 ],
 "metadata": {
  "kernelspec": {
   "display_name": "Python 3",
   "language": "python",
   "name": "python3"
  },
  "language_info": {
   "codemirror_mode": {
    "name": "ipython",
    "version": 3
   },
   "file_extension": ".py",
   "mimetype": "text/x-python",
   "name": "python",
   "nbconvert_exporter": "python",
   "pygments_lexer": "ipython3",
   "version": "3.6.8"
  }
 },
 "nbformat": 4,
 "nbformat_minor": 2
}
