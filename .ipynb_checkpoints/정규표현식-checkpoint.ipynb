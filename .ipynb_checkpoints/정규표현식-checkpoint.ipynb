{
 "cells": [
  {
   "cell_type": "markdown",
   "metadata": {},
   "source": [
    "# [정규표현식](https://ko.wikipedia.org/wiki/%EC%A0%95%EA%B7%9C_%ED%91%9C%ED%98%84%EC%8B%9D)\n"
   ]
  },
  {
   "cell_type": "code",
   "execution_count": 70,
   "metadata": {},
   "outputs": [
    {
     "name": "stdout",
     "output_type": "stream",
     "text": [
      "010-2819-1202\n"
     ]
    }
   ],
   "source": [
    "import re\n",
    " \n",
    "text = \"문의사항이 있으면 010-2819-1202 으로 연락주시기 바랍니다.\"\n",
    " \n",
    "regex = re.compile(r'[0-9]*-[0-9]*-[0-9]*')\n",
    "matchobj = regex.search(text)\n",
    "phonenumber = matchobj.group()\n",
    "print(phonenumber)    "
   ]
  },
  {
   "cell_type": "code",
   "execution_count": 69,
   "metadata": {},
   "outputs": [
    {
     "name": "stdout",
     "output_type": "stream",
     "text": [
      "신한금융, 여성가족부와 '성별균형' 자율협약 체결\n",
      "[\"[아이뉴스24 김다운 기자] 신한금융그룹은 26일 서울 중구 세종대로에 위치한 신한금융 본사에서 여성가족부와 '성별균형 포용성장 파트너십' 공동 추진에 관한 자율협약을 체결하고 체계적인 여성 인재 양성을 통한 여성 리더 확대, 일·생활 균형을 위한 지원 강화 등을 추진한다고 밝혔다.\", '신한금융은 이번 협약을 계기로 여성 경영 리더 후보군 양성에 주력하고자 여성 리더 육성 프로그램인 신한쉬어로즈(SHeroes) 참여 대상 그룹을 확대하고 프로그램을 정교화 해 나갈 계획이다.', '신한 SHeroes는 현재 여성 임원 및 최고위직 부서장을 대상으로 그룹사 4곳에서 시행하고 있으나, 올해부터는 규모를 확대하여 8개 그룹사로 운영하며 향후 전 그룹사로 확대 운영할 예정이다.', \"또한 여성 인재 양성의 실행을 확보하기 위해 16개 그룹사 대표(CEO)의 평가 항목에 '여성 리더 육성 및 여성 인재풀 (pool) 확대'를 포함해 인사평가에 활용하고 채용, 직무, 승진, 보상 등 전 영역에서 성차별이 발생하지 않도록 노력하기로 했다.\", '이번 협약은 이정옥 여성가족부 장관 취임 후 첫번째로 맺는 기업과의 자율협약으로 기업 내 성별 다양성 제고를 위한 첫 번째 현장 행보다.', \"여성가족부와 신한금융그룹은 2013년 가족친화인증제를 시작으로 취약계층 경력단절여성 및 학교 밖 청소년의 일자리 창출·문화예술 창작 지원, 맞벌이 부부를 위한 초등돌봄나눔터인 '신한꿈도담터' 등 사회공헌 사업을 통해 공고한 파트너십을 구축해 왔다.\", \"그 결과 신한금융은 국내 기업 최초로 '2019 블룸버그 성평등 지수(Bloomberg Gender-Equality Index,GEI)'에 편입돼, 전 세계 36개국 230개의 양성평등 우수 기업 중 하나로 꼽히기도 했다.\", '이 장관은 \"금융 분야의 성별균형 인재양성 노력은 금융 산업 전반의 균형 잡힌 성장과 글로벌 시장에서의 경쟁력을 확보하는데 기여하게 될 것\"이라고 밝혔다.', '조용병 신한금융그룹 회장은 \"여성들이 자신의 역량을 마음껏 발휘할 수 있는 더 많은 기회가 주어져야 한다\"며 \"여성이 행복한 일터를 만들 수 있도록 최선을 다하겠다\"고 말했다.', \"한편 신한금융그룹은 여성리더를 체계적으로 육성하겠다는 조 회장의 의지로 작년 3월 국내 금융권 최초로 그룹 차원의 여성리더 육성 프로그램인 '신한 쉬어로즈'를 출범시킨 바 있다.\", \"작년 연말 그룹 임원인사에서 '신한 쉬어로즈' 1기 졸업생 중 왕미화 그룹 WM사업부문장, 조경선 신한은행 부행장 등 2명의 여성 부행장과 6명의 여성본부장이 탄생하며 그룹의 여성 리더 육성의 산실로 자리매김했다는 설명이다.\"]\n"
     ]
    }
   ],
   "source": [
    "import requests, re\n",
    "\n",
    "url = 'http://www.inews24.com/view/1211022'\n",
    "html =requests.get(url).text\n",
    "\n",
    "\n",
    "\n",
    "regex_title= r'<title>(.*?)<\\/title>'\n",
    "regex_article = r'<article\\sclass=\"view\"\\sitemprop=\"articleBody\"\\sid=\"articleBody\">(.+?)<\\/article>'\n",
    "regex_p = r'<p>(.*?)<\\/p>'\n",
    "\n",
    "title = re.findall(regex_title, html)[0]\n",
    "article = re.findall(regex_article, html, re.I|re.S)[0]\n",
    "article = list(re.findall(regex_p, article, re.I|re.S))\n",
    "\n",
    "print(title)\n",
    "print(article)"
   ]
  }
 ],
 "metadata": {
  "kernelspec": {
   "display_name": "Python 3",
   "language": "python",
   "name": "python3"
  },
  "language_info": {
   "codemirror_mode": {
    "name": "ipython",
    "version": 3
   },
   "file_extension": ".py",
   "mimetype": "text/x-python",
   "name": "python",
   "nbconvert_exporter": "python",
   "pygments_lexer": "ipython3",
   "version": "3.6.8"
  }
 },
 "nbformat": 4,
 "nbformat_minor": 2
}
