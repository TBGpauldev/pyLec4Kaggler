{
 "cells": [
  {
   "cell_type": "markdown",
   "metadata": {},
   "source": [
    "# 3. Python 클래스\n",
    "\n",
    "###### 목차\n",
    "1. 클래스와 객체\n",
    "2. 클래스 선언\n",
    "3. 생성자 소멸자\n",
    "4. 클래스 변수\n",
    "5. 클래스 함수\n",
    "6. 상속\n",
    "7. 메서드 오버라이딩\n",
    "8. Magic Method\n",
    "\n",
    " 클래스는 Java, C++, Python 여러 언어들을 포함, 대부분의 프로그래밍에 있어 정말 중요한 개념으로 자리잡고 있습니다. 객체지향 패러다임은 현대 개발 방법론을 완전히 뒤바꿔 놓았기 때문입니다. 이번 챕터에서 객체지향 패러다임을 다룰 예정은 아닙니다. 혹시라도 객체지향 패러다임이 궁굼하다면 아래 링크에서 학습하시기 바랍니다. \n",
    " \n",
    "[객체 지향 프로그래밍, Wiki](https://ko.wikipedia.org/wiki/%EA%B0%9D%EC%B2%B4_%EC%A7%80%ED%96%A5_%ED%94%84%EB%A1%9C%EA%B7%B8%EB%9E%98%EB%B0%8D)\n",
    " \n",
    " 사실 프로그램을 만드는데 있어 클래스는 필수가 아닙니다. 개인적으로 생각하기에 가장 영향력 있는 소프트웨어는 Linux 운영체제라고 생각합니다. 이 Linux 운영체제는 클래스의 개념이 없는 C언어로만 개발이 되었죠. 그 말은 클래스 없이도 나름 대형 소프트웨어라고 말할 수 있는 Linux 같은 운영체제를 만들 수 있다는 이야기 입니다. 그럼에도 불구하고, Python에서 클래스를 알아야 하는 이유는 무엇일까요? \n",
    " > **\"everything is object in python\"**"
   ]
  },
  {
   "cell_type": "markdown",
   "metadata": {},
   "source": [
    "## 1. 클래스와 객체"
   ]
  },
  {
   "cell_type": "markdown",
   "metadata": {},
   "source": [
    "## 2. 클래스 선언"
   ]
  },
  {
   "cell_type": "markdown",
   "metadata": {},
   "source": [
    "## 3. 생성자와 소멸자"
   ]
  },
  {
   "cell_type": "markdown",
   "metadata": {},
   "source": [
    "## 4. 클래스 변수"
   ]
  },
  {
   "cell_type": "markdown",
   "metadata": {},
   "source": [
    "## 5. 클래스 함수 "
   ]
  },
  {
   "cell_type": "markdown",
   "metadata": {},
   "source": [
    "## 6. 상속"
   ]
  },
  {
   "cell_type": "markdown",
   "metadata": {},
   "source": [
    "## 7. 메소드 오버라이딩"
   ]
  },
  {
   "cell_type": "markdown",
   "metadata": {},
   "source": [
    "## 8. Magic Method"
   ]
  }
 ],
 "metadata": {
  "kernelspec": {
   "display_name": "Python 3",
   "language": "python",
   "name": "python3"
  },
  "language_info": {
   "codemirror_mode": {
    "name": "ipython",
    "version": 3
   },
   "file_extension": ".py",
   "mimetype": "text/x-python",
   "name": "python",
   "nbconvert_exporter": "python",
   "pygments_lexer": "ipython3",
   "version": "3.6.8"
  }
 },
 "nbformat": 4,
 "nbformat_minor": 2
}
