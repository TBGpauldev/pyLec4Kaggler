{
 "cells": [
  {
   "cell_type": "markdown",
   "metadata": {},
   "source": [
    "# 3. Python 클래스\n",
    "\n",
    "###### 목차\n",
    "1. 클래스와 객체\n",
    "2. 클래스 선언\n",
    "3. 생성자 소멸자\n",
    "4. 클래스 변수\n",
    "5. 클래스 함수\n",
    "6. 상속\n",
    "7. 메서드 오버라이딩\n",
    "8. Magic Method\n",
    "\n",
    " 클래스는 Java, C++, Python 여러 언어들을 포함, 대부분의 프로그래밍에 있어 정말 중요한 개념으로 자리잡고 있습니다. 객체지향 패러다임은 현대 개발 방법론을 완전히 뒤바꿔 놓았기 때문입니다. 이번 챕터에서 객체지향 패러다임을 다룰 예정은 아닙니다. 혹시라도 객체지향 패러다임이 궁굼하다면 아래 링크에서 학습하시기 바랍니다. \n",
    " \n",
    "[객체 지향 프로그래밍, Wiki](https://ko.wikipedia.org/wiki/%EA%B0%9D%EC%B2%B4_%EC%A7%80%ED%96%A5_%ED%94%84%EB%A1%9C%EA%B7%B8%EB%9E%98%EB%B0%8D)\n",
    " \n",
    " 사실 프로그램을 만드는데 있어 클래스는 필수가 아닙니다. 개인적으로 생각하기에 가장 영향력 있는 소프트웨어는 Linux 운영체제라고 생각합니다. 이 Linux 운영체제는 클래스의 개념이 없는 C언어로만 개발이 되었죠. 그 말은 클래스 없이도 나름 대형 소프트웨어라고 말할 수 있는 Linux 같은 운영체제를 만들 수 있다는 이야기 입니다. 그럼에도 불구하고, Python에서 클래스를 알아야 하는 이유는 무엇일까요? \n",
    " > **\"everything is object in python\"**"
   ]
  },
  {
   "cell_type": "markdown",
   "metadata": {},
   "source": [
    "## 1. 클래스 구현과 객체 생성\n",
    "> 클래스는 ‘설계도’, 객체는 ‘설계도로 구현한 모든 대상’을 의미한다.\n",
    "\n",
    "[클래스, 오브젝트, 인스턴스의 차이](https://dongkka.tistory.com/22)\n",
    "\n",
    " Python에서 모든것은 Object이며 이는 Class로 구현이 되어있습니다. Class를 사용하면 함수 이상으로 코드를 일목요연하게 정리할 수 있습니다. 지금은 Class는 정의된 변수와 함수를 포함하는 집합 정도로 이해해도 됩니다. Class의 선언 문법은 아래와 같습니다. "
   ]
  },
  {
   "cell_type": "code",
   "execution_count": 7,
   "metadata": {},
   "outputs": [],
   "source": [
    "class Student:\n",
    "    \n",
    "    def __init__(self, name, lecture):\n",
    "        self.name = name\n",
    "        self.lecture = lecture\n",
    "        \n",
    "    def print_info(self):\n",
    "        print(f'Name    : {self.name}\\nLecture : {self.lecture}')\n",
    "        \n",
    "paul = Student(name='paulracooni', lecture='PyLec4Kaggler')"
   ]
  },
  {
   "cell_type": "markdown",
   "metadata": {},
   "source": [
    "위 문법에서 3가지 눈여겨볼 사안이 있습니다.\n",
    "\n",
    "## 2. 생성자 def \\_\\_init\\_\\_(self):\n",
    "\n",
    "\\_\\_init\\_\\_은 Class의 생성자라고 부릅니다. 생성자는 Class가 인스턴스가 될때, 호출이 되는 함수이고, 클래스가 생성될 때 초기에 설정되야 하는 모든 행동을 정의합니다. 반대로 클래스가 소멸될 때, 호출이 되는 함수는 \\_\\_del\\_\\_함수 이고 이를 소멸자로 부릅니다. \n",
    "\n",
    "Python을 처음 접하면 \\_\\_function\\_\\_을 자주 접하게 됩니다. 이것은 Magic method라고 부르고, Python에서 특수한 기능을 제공하기 위해 사전에 정의된 함수입니다. Magic method에 대해선 이번 노트북 맨 마지막에 다룰 예정입니다.\n",
    "\n",
    "## 3. self keyworkd\n",
    "\n",
    "self 키워드는 class 내부에서 자기 자신을 참조하기 위해 사용되는 예약어입니다. self 키워드를 통해 변수를 참조하고, 선언하고 값을 할당할 수 있습니다.\n",
    "\n",
    "## 4. 클래스 변수 self.name\n",
    "\n",
    "클래스에서 관리하는 변수를 클래스 변수라고 합니다. 클래스 내부에서는 선언된 클래스 변수를 self.name과 같은 형태로 접근할 수 있습니다. 또한 생성된 인스턴스 paul.name을 통해 클래스 외부에서도 접근이 가능합니다. \n",
    "\n",
    "클래스에는 접근 제어자 public, private, protected에 대한 개념이 존재하지만 이번 Notebook에서는 다루지 않습니다. \n",
    "\n",
    "[Python - public, private and protected Access Modifiers](https://www.tutorialsteacher.com/python/private-and-protected-access-modifiers-in-python)\n",
    "\n",
    "## 5. 클래스 함수 print_info(self)\n",
    "\n",
    "클래스는 함수 또한 포함할 수 있습니다. 클래스 내부에서 관리되는 함수는 일반 함수를 선언하는 것과 동일하게 선언되지만, 첫번째 파라미터는 무조건 self를 적어야 하는 규칙이 있습니다. python에서는 클래스 함수가 호출이 될때 자기 자신이 인자로 전달되기 때문입니다. 하지만 클래스 함수를 호출 할 때에는 두번 째 파라미터부터 인자를 전달하면 됩니다. \n",
    "\n",
    "클래스 함수에는 property, classmethod, staticmetod 세가지 개념이 존재합니다. 이 또한 이번 노트북에선 다루지 않기에 필요시 아래 링크를 통해 확인해 주세요. \n",
    "\n",
    "[@property Decorator](https://www.tutorialsteacher.com/python/property-decorator)\n",
    "[@classmethod decorator](https://www.tutorialsteacher.com/python/classmethod-decorator)\n",
    "[@staticmethod decorator](https://www.tutorialsteacher.com/python/staticmethod-decorator)"
   ]
  },
  {
   "cell_type": "markdown",
   "metadata": {},
   "source": [
    "## 6. Magic Method\n",
    "Magic Method는 당신의 클래스에 마법을 더해주는 특별한 Method입니다. Magic method는 클래스 내부적으로 특수한 기능을 수행하기 위해 사전에 Python에서 정의한 함수입니다. \n",
    "\n",
    "Magic method에 대해서 저보다 잘 설명해주신 개발자 분이 있어 그분의 포스트로 대체하려고 합니다.\n",
    "\n",
    "[파이썬 더블 언더스코어: Magic Method](https://corikachu.github.io/articles/python/python-magic-method)\n"
   ]
  },
  {
   "cell_type": "markdown",
   "metadata": {},
   "source": [
    "#### int 클래스를 통한 매직 메소드 맛보기 "
   ]
  },
  {
   "cell_type": "code",
   "execution_count": 10,
   "metadata": {},
   "outputs": [
    {
     "name": "stdout",
     "output_type": "stream",
     "text": [
      "<class 'int'>\n",
      "['__abs__', '__add__', '__and__', '__bool__', '__ceil__', '__class__', '__delattr__', '__dir__', '__divmod__', '__doc__', '__eq__', '__float__', '__floor__', '__floordiv__', '__format__', '__ge__', '__getattribute__', '__getnewargs__', '__gt__', '__hash__', '__index__', '__init__', '__init_subclass__', '__int__', '__invert__', '__le__', '__lshift__', '__lt__', '__mod__', '__mul__', '__ne__', '__neg__', '__new__', '__or__', '__pos__', '__pow__', '__radd__', '__rand__', '__rdivmod__', '__reduce__', '__reduce_ex__', '__repr__', '__rfloordiv__', '__rlshift__', '__rmod__', '__rmul__', '__ror__', '__round__', '__rpow__', '__rrshift__', '__rshift__', '__rsub__', '__rtruediv__', '__rxor__', '__setattr__', '__sizeof__', '__str__', '__sub__', '__subclasshook__', '__truediv__', '__trunc__', '__xor__', 'bit_length', 'conjugate', 'denominator', 'from_bytes', 'imag', 'numerator', 'real', 'to_bytes']\n"
     ]
    }
   ],
   "source": [
    "## int class의 매직 메소드들\n",
    "print(type(int()))\n",
    "print(dir(int()))"
   ]
  },
  {
   "cell_type": "code",
   "execution_count": 11,
   "metadata": {},
   "outputs": [
    {
     "name": "stdout",
     "output_type": "stream",
     "text": [
      "15\n",
      "15\n"
     ]
    }
   ],
   "source": [
    "num = 10 \n",
    "print(num + 5)\n",
    "print(num.__add__(5))"
   ]
  }
 ],
 "metadata": {
  "kernelspec": {
   "display_name": "Python 3",
   "language": "python",
   "name": "python3"
  },
  "language_info": {
   "codemirror_mode": {
    "name": "ipython",
    "version": 3
   },
   "file_extension": ".py",
   "mimetype": "text/x-python",
   "name": "python",
   "nbconvert_exporter": "python",
   "pygments_lexer": "ipython3",
   "version": "3.6.8"
  }
 },
 "nbformat": 4,
 "nbformat_minor": 2
}
